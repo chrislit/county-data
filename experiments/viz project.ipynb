{
 "cells": [
  {
   "cell_type": "code",
   "execution_count": 1,
   "metadata": {
    "collapsed": true
   },
   "outputs": [],
   "source": [
    "import pandas as pd\n",
    "\n",
    "from bokeh.io import show\n",
    "from bokeh.models import (\n",
    "    ColumnDataSource,\n",
    "    HoverTool,\n",
    "    LogColorMapper\n",
    ")\n",
    "import bokeh.palettes as palset\n",
    "from bokeh.plotting import figure\n",
    "\n",
    "from bokeh.sampledata.us_counties import data as counties"
   ]
  },
  {
   "cell_type": "code",
   "execution_count": 6,
   "metadata": {
    "collapsed": true
   },
   "outputs": [],
   "source": [
    "df = pd.read_csv('../county-data.csv', index_col=0)"
   ]
  },
  {
   "cell_type": "code",
   "execution_count": 8,
   "metadata": {},
   "outputs": [],
   "source": [
    "palette = palset.RdBu10\n",
    "#palette.reverse()\n",
    "\n",
    "counties = {\n",
    "    code: county for code, county in counties.items() if (code[0]*1000+code[1]) in df.index\n",
    "}\n",
    "\n",
    "\n",
    "county_xs = [county[\"lons\"] for county in counties.values()]\n",
    "county_ys = [county[\"lats\"] for county in counties.values()]\n",
    "\n",
    "color_mapper = LogColorMapper(palette=palette)\n",
    "\n",
    "county_names = df.county + ', ' + df.state\n",
    "claim_rates =  (df.partd_claims_opioid_2014 / df.partd_claims_all_2014 * 100).fillna(\"unknown\")\n",
    "pop = df['pop']\n",
    "poverty_rates = (df.SAIPE_poverty/df['pop']*100).fillna(\"unknown\")\n",
    "disability_rates = (df.SSI_blind_disabled / df['pop']*100).fillna(\"unknown\")\n",
    "opioid_deaths = df.CM_deaths_opiates.fillna(\"unknown\")\n",
    "\n",
    "source = ColumnDataSource(data=dict(\n",
    "    x=county_xs,\n",
    "    y=county_ys,\n",
    "    name=county_names,\n",
    "    rate=claim_rates,\n",
    "    population=pop,\n",
    "    poverty=poverty_rates,\n",
    "    disability=disability_rates,\n",
    "    opioids=opioid_deaths\n",
    "))\n",
    "\n",
    "TOOLS = \"pan,wheel_zoom,reset,hover,save\""
   ]
  },
  {
   "cell_type": "code",
   "execution_count": 9,
   "metadata": {
    "collapsed": true
   },
   "outputs": [],
   "source": [
    "p = figure(\n",
    "    title=\"Medicare Part D Opioid Claim Rate (opioid claims as a percentage of all claims)\", tools=TOOLS,\n",
    "    x_axis_location=None, y_axis_location=None,\n",
    "    plot_width=800, plot_height=500\n",
    ")\n",
    "p.grid.grid_line_color = None\n",
    "\n",
    "p.patches('x', 'y', source=source,\n",
    "          fill_color={'field': 'rate', 'transform': color_mapper},\n",
    "          fill_alpha=0.7, line_color=\"white\", line_width=0.5)\n",
    "\n",
    "hover = p.select_one(HoverTool)\n",
    "hover.point_policy = \"follow_mouse\"\n",
    "hover.tooltips = [\n",
    "    (\"Name\", \"@name\"),\n",
    "    (\"Medicare Part D opioid claim rate\", \"@rate%\"),\n",
    "    (\"Population\", \"@population\"),\n",
    "    (\"Poverty rate\", \"@poverty%\"),\n",
    "    (\"Disabilty rate\", \"@disability%\"),\n",
    "    (\"Opioid deaths\", \"@opioids\"),\n",
    "]\n",
    "\n",
    "show(p)"
   ]
  },
  {
   "cell_type": "code",
   "execution_count": null,
   "metadata": {
    "collapsed": true
   },
   "outputs": [],
   "source": [
    "p = figure(\n",
    "    title=\"Disability Rate (SSI disability claims/population)\", tools=TOOLS,\n",
    "    x_axis_location=None, y_axis_location=None,\n",
    "    plot_width=800, plot_height=500\n",
    ")\n",
    "p.grid.grid_line_color = None\n",
    "\n",
    "p.patches('x', 'y', source=source,\n",
    "          fill_color={'field': 'disability', 'transform': color_mapper},\n",
    "          fill_alpha=0.7, line_color=\"white\", line_width=0.5)\n",
    "\n",
    "hover = p.select_one(HoverTool)\n",
    "hover.point_policy = \"follow_mouse\"\n",
    "hover.tooltips = [\n",
    "    (\"Name\", \"@name\"),\n",
    "    (\"Medicare Part D opioid claim rate\", \"@rate%\"),\n",
    "    (\"Population\", \"@population\"),\n",
    "    (\"Poverty rate\", \"@poverty%\"),\n",
    "    (\"Disabilty rate\", \"@disability%\"),\n",
    "    (\"Opioid deaths\", \"@opioids\"),\n",
    "]\n",
    "\n",
    "show(p)"
   ]
  },
  {
   "cell_type": "code",
   "execution_count": null,
   "metadata": {
    "collapsed": true
   },
   "outputs": [],
   "source": []
  }
 ],
 "metadata": {
  "kernelspec": {
   "display_name": "Python 3",
   "language": "python",
   "name": "python3"
  },
  "language_info": {
   "codemirror_mode": {
    "name": "ipython",
    "version": 3
   },
   "file_extension": ".py",
   "mimetype": "text/x-python",
   "name": "python",
   "nbconvert_exporter": "python",
   "pygments_lexer": "ipython3",
   "version": "3.6.1"
  }
 },
 "nbformat": 4,
 "nbformat_minor": 2
}
